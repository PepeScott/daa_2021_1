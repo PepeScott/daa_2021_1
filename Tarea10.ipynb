{
  "nbformat": 4,
  "nbformat_minor": 0,
  "metadata": {
    "colab": {
      "name": "Tarea10.ipynb",
      "provenance": [],
      "authorship_tag": "ABX9TyPuEnbe6FTwJGqh6usNIknx",
      "include_colab_link": true
    },
    "kernelspec": {
      "name": "python3",
      "display_name": "Python 3"
    }
  },
  "cells": [
    {
      "cell_type": "markdown",
      "metadata": {
        "id": "view-in-github",
        "colab_type": "text"
      },
      "source": [
        "<a href=\"https://colab.research.google.com/github/PepeScott/daa_2021_1/blob/master/Tarea10.ipynb\" target=\"_parent\"><img src=\"https://colab.research.google.com/assets/colab-badge.svg\" alt=\"Open In Colab\"/></a>"
      ]
    },
    {
      "cell_type": "code",
      "metadata": {
        "id": "mrGlG5RERssU"
      },
      "source": [
        "class Array2D:\r\n",
        "    def __init__( self , rows , cols ):\r\n",
        "        self.__rows = rows\r\n",
        "        self.__cols = cols\r\n",
        "        self.__arreglo = []\r\n",
        "        for r in range(self.__rows):\r\n",
        "            tmp = []\r\n",
        "            for c in range(self.__cols):\r\n",
        "                tmp.append(0)\r\n",
        "            self.__arreglo.append(tmp)\r\n",
        "            \r\n",
        "    def to_string( self ):\r\n",
        "        for ren in self.__arreglo:\r\n",
        "            print(ren)\r\n",
        "\r\n",
        "    def get_num_rows(self):\r\n",
        "        return self.__rows\r\n",
        "    \r\n",
        "    def get_num_cols(self):\r\n",
        "        return self.__cols\r\n",
        "\r\n",
        "    def set_item(self,rows ,cols ,value ):\r\n",
        "        self.__arreglo[rows][cols] = value\r\n",
        "\r\n",
        "    def get_item(self , rows , cols ):\r\n",
        "        return self.__arreglo[rows][cols]\r\n",
        "    def lista(self):\r\n",
        "        return self.__arreglo\r\n",
        "    def clearing(self, value):\r\n",
        "        for i in range(self.__rows):\r\n",
        "            for j in range(self.__cols):\r\n",
        "                self.__arreglo[i][j]=value"
      ],
      "execution_count": null,
      "outputs": []
    },
    {
      "cell_type": "code",
      "metadata": {
        "id": "9VS0HDxlR46f"
      },
      "source": [
        "class NodoArbol:\r\n",
        "  def __init__(self,value,left=None,rigth=None):\r\n",
        "    self.data=value\r\n",
        "    self.left=left\r\n",
        "    self.rigth=rigth\r\n",
        "\r\n",
        "def RecorridoNodos(aux,lista,contador):\r\n",
        "  if aux.left != None and aux.rigth != None:\r\n",
        "    contador+=1\r\n",
        "    RecorridoNodos(aux.left,lista,contador)\r\n",
        "    RecorridoNodos(aux.rigth,lista,contador)\r\n",
        "    contador-=1\r\n",
        "  if aux.left != None and aux.rigth == None:\r\n",
        "    contador+=1\r\n",
        "    RecorridoNodos(aux.left,lista,contador)\r\n",
        "    contador-=1\r\n",
        "  if aux.left == None and aux.rigth != None:\r\n",
        "    contador+=1\r\n",
        "    RecorridoNodos(aux.rigth,lista,contador)\r\n",
        "    contador-=1\r\n",
        "  if aux.left == None and aux.rigth == None:\r\n",
        "    lista.append([aux,contador])"
      ],
      "execution_count": null,
      "outputs": []
    },
    {
      "cell_type": "code",
      "metadata": {
        "id": "LyqoYYEOgcqi",
        "colab": {
          "base_uri": "https://localhost:8080/"
        },
        "outputId": "519bb826-fc10-4ec5-c5a0-f8322ff47ce4"
      },
      "source": [
        "def ejemplo(aux):\r\n",
        "  lista=[]\r\n",
        "  contador=1\r\n",
        "  RecorridoNodos(aux,lista,contador)\r\n",
        "  a2=Array2D(len(lista),2)\r\n",
        "  for r in range(0,len(lista),1):\r\n",
        "      nlista=lista[r]\r\n",
        "      for c in range(0,2,1):\r\n",
        "          a2.set_item(r,c,nlista[c])\r\n",
        "\r\n",
        "  datoMax=0\r\n",
        "  ramaMax=\"\"\r\n",
        "  for r in range(0,len(lista),1):\r\n",
        "      dato=int(a2.get_item(r,1))\r\n",
        "      if datoMax < dato:\r\n",
        "          datoMax=a2.get_item(r,1)\r\n",
        "          ramaMax=a2.get_item(r,0)\r\n",
        "  print(f\"La hoja {ramaMax.data} se encuentra en el nivel {datoMax}\")\r\n",
        "\r\n",
        "aux1=NodoArbol(3,NodoArbol(5,NodoArbol(1),NodoArbol(6,NodoArbol(7,NodoArbol(9),None),None)),NodoArbol(4,None,NodoArbol(5,NodoArbol(6),None)))\r\n",
        "aux2=NodoArbol(4,NodoArbol(3,NodoArbol(2,NodoArbol(1))),NodoArbol(5))\r\n",
        "aux3=NodoArbol(1,NodoArbol(21,NodoArbol(31,NodoArbol(41),NodoArbol(42)),None),NodoArbol(22,NodoArbol(32),None))\r\n",
        "aux4=NodoArbol(11,NodoArbol(12,NodoArbol(14),None),NodoArbol(13,NodoArbol(15),NodoArbol(16,None,NodoArbol(17))))\r\n",
        "ejemplo(aux1)\r\n",
        "ejemplo(aux2)\r\n",
        "ejemplo(aux3)\r\n",
        "ejemplo(aux4)"
      ],
      "execution_count": null,
      "outputs": [
        {
          "output_type": "stream",
          "text": [
            "La hoja 9 se encuentra en el nivel 5\n",
            "La hoja 1 se encuentra en el nivel 4\n",
            "La hoja 41 se encuentra en el nivel 4\n",
            "La hoja 17 se encuentra en el nivel 4\n"
          ],
          "name": "stdout"
        }
      ]
    }
  ]
}