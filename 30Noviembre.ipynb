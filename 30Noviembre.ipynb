{
  "nbformat": 4,
  "nbformat_minor": 0,
  "metadata": {
    "colab": {
      "name": "30Noviembre.ipynb",
      "provenance": [],
      "authorship_tag": "ABX9TyOQlLCYNjCI+k0EvaO3tzJn",
      "include_colab_link": true
    },
    "kernelspec": {
      "name": "python3",
      "display_name": "Python 3"
    }
  },
  "cells": [
    {
      "cell_type": "markdown",
      "metadata": {
        "id": "view-in-github",
        "colab_type": "text"
      },
      "source": [
        "<a href=\"https://colab.research.google.com/github/PepeScott/daa_2021_1/blob/master/30Noviembre.ipynb\" target=\"_parent\"><img src=\"https://colab.research.google.com/assets/colab-badge.svg\" alt=\"Open In Colab\"/></a>"
      ]
    },
    {
      "cell_type": "code",
      "metadata": {
        "colab": {
          "base_uri": "https://localhost:8080/"
        },
        "id": "oduXy5Kun100",
        "outputId": "dbd39e9a-7c07-4890-b529-4bafc7370c4c"
      },
      "source": [
        "A = \"AELASESLALSALSALSALSALSALASLSLSLSLSALALALALASALSALLSALAS\"\n",
        "P = \"LAS\"\n",
        "N = len(A)\n",
        "M = len(P)\n",
        "def fuerza_bruta(A,P):\n",
        "  for i in range(N-M+1):\n",
        "    for j in range(M):\n",
        "      if A[i+j]!=P[j]:\n",
        "        break\n",
        "      else:\n",
        "        pass\n",
        "    if j+1==M and A[i+j]==P[j]:\n",
        "      print(\"encontrando en la posición:\",i)\n",
        "fuerza_bruta(A,P)\n",
        "#O(n)= ((N-M) * M) "
      ],
      "execution_count": 2,
      "outputs": [
        {
          "output_type": "stream",
          "text": [
            "encontrando en la posición: 2\n",
            "encontrando en la posición: 24\n",
            "encontrando en la posición: 42\n",
            "encontrando en la posición: 53\n"
          ],
          "name": "stdout"
        }
      ]
    }
  ]
}