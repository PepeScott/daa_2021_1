{
  "nbformat": 4,
  "nbformat_minor": 0,
  "metadata": {
    "colab": {
      "name": "Tarea6.ipynb",
      "provenance": [],
      "authorship_tag": "ABX9TyM4SrlDRWNsc612Oo9SjPIz",
      "include_colab_link": true
    },
    "kernelspec": {
      "name": "python3",
      "display_name": "Python 3"
    }
  },
  "cells": [
    {
      "cell_type": "markdown",
      "metadata": {
        "id": "view-in-github",
        "colab_type": "text"
      },
      "source": [
        "<a href=\"https://colab.research.google.com/github/PepeScott/daa_2021_1/blob/master/Tarea6.ipynb\" target=\"_parent\"><img src=\"https://colab.research.google.com/assets/colab-badge.svg\" alt=\"Open In Colab\"/></a>"
      ]
    },
    {
      "cell_type": "code",
      "metadata": {
        "colab": {
          "base_uri": "https://localhost:8080/"
        },
        "id": "8sPKN52sG9NG",
        "outputId": "6ae2b5b9-6b17-4f63-d3c3-1de7ac90372b"
      },
      "source": [
        "texto=\"El lema que anima a la Universidad Nacional, Por mi raza hablará el espíritu, revela la vocación humanística con la que fue concebida. El autor de esta célebre frase, José Vasconcelos, asumió la rectoría en 1920, en una época en que las esperanzas de la Revolución aún estaban vivas, había una gran fé en la Patria y el ánimo redentor se extendía en el ambiente.\"\n",
        "mtexto=texto.lower()\n",
        "ctexto=mtexto.replace(\",\",\"\")\n",
        "ptexto=ctexto.replace(\".\",\"\")\n",
        "ftexto=ptexto.split()\n",
        "ftexto.sort()\n",
        "for r in range(len(ftexto)):\n",
        "    if ftexto[r] != ftexto[r-1]:\n",
        "        contador=0\n",
        "        for c in range(len(ftexto)):\n",
        "            if ftexto[c] == ftexto[r]:\n",
        "                contador+=1\n",
        "        print(f\"La palabra {ftexto[r]} se repite {contador}\")\n",
        "print(ptexto)"
      ],
      "execution_count": 5,
      "outputs": [
        {
          "output_type": "stream",
          "text": [
            "La palabra 1920 se repite 1\n",
            "La palabra a se repite 1\n",
            "La palabra ambiente se repite 1\n",
            "La palabra anima se repite 1\n",
            "La palabra asumió se repite 1\n",
            "La palabra autor se repite 1\n",
            "La palabra aún se repite 1\n",
            "La palabra con se repite 1\n",
            "La palabra concebida se repite 1\n",
            "La palabra célebre se repite 1\n",
            "La palabra de se repite 2\n",
            "La palabra el se repite 5\n",
            "La palabra en se repite 5\n",
            "La palabra esperanzas se repite 1\n",
            "La palabra espíritu se repite 1\n",
            "La palabra esta se repite 1\n",
            "La palabra estaban se repite 1\n",
            "La palabra extendía se repite 1\n",
            "La palabra frase se repite 1\n",
            "La palabra fue se repite 1\n",
            "La palabra fé se repite 1\n",
            "La palabra gran se repite 1\n",
            "La palabra hablará se repite 1\n",
            "La palabra había se repite 1\n",
            "La palabra humanística se repite 1\n",
            "La palabra josé se repite 1\n",
            "La palabra la se repite 6\n",
            "La palabra las se repite 1\n",
            "La palabra lema se repite 1\n",
            "La palabra mi se repite 1\n",
            "La palabra nacional se repite 1\n",
            "La palabra patria se repite 1\n",
            "La palabra por se repite 1\n",
            "La palabra que se repite 3\n",
            "La palabra raza se repite 1\n",
            "La palabra rectoría se repite 1\n",
            "La palabra redentor se repite 1\n",
            "La palabra revela se repite 1\n",
            "La palabra revolución se repite 1\n",
            "La palabra se se repite 1\n",
            "La palabra una se repite 2\n",
            "La palabra universidad se repite 1\n",
            "La palabra vasconcelos se repite 1\n",
            "La palabra vivas se repite 1\n",
            "La palabra vocación se repite 1\n",
            "La palabra y se repite 1\n",
            "La palabra ánimo se repite 1\n",
            "La palabra época se repite 1\n",
            "el lema que anima a la universidad nacional por mi raza hablará el espíritu revela la vocación humanística con la que fue concebida el autor de esta célebre frase josé vasconcelos asumió la rectoría en 1920 en una época en que las esperanzas de la revolución aún estaban vivas había una gran fé en la patria y el ánimo redentor se extendía en el ambiente\n"
          ],
          "name": "stdout"
        }
      ]
    }
  ]
}