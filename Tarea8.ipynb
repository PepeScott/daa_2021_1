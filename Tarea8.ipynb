{
  "nbformat": 4,
  "nbformat_minor": 0,
  "metadata": {
    "colab": {
      "name": "Tarea8.ipynb",
      "provenance": [],
      "authorship_tag": "ABX9TyPcCTwpzArxNTZ6nFlsp09q",
      "include_colab_link": true
    },
    "kernelspec": {
      "name": "python3",
      "display_name": "Python 3"
    }
  },
  "cells": [
    {
      "cell_type": "markdown",
      "metadata": {
        "id": "view-in-github",
        "colab_type": "text"
      },
      "source": [
        "<a href=\"https://colab.research.google.com/github/PepeScott/daa_2021_1/blob/master/Tarea8.ipynb\" target=\"_parent\"><img src=\"https://colab.research.google.com/assets/colab-badge.svg\" alt=\"Open In Colab\"/></a>"
      ]
    },
    {
      "cell_type": "code",
      "metadata": {
        "id": "tSc7hf_L2_hL",
        "colab": {
          "base_uri": "https://localhost:8080/"
        },
        "outputId": "a796d50d-266b-4f3c-ca66-8e8d95344c5c"
      },
      "source": [
        "alumno1={'id':2, 'nombre':\"Juan\" , 'carrera':\"ICO\", 'promedio':7.67}\r\n",
        "alumno2={'id':4, 'nombre':\"Rocio\" , 'carrera':\"ICI\", 'promedio':8.67}\r\n",
        "alumno3={'id':5, 'nombre':\"Diego\" , 'carrera':\"DER\", 'promedio':8.98}\r\n",
        "alumno4={'id':7, 'nombre':\"May\" , 'carrera':\"ICI\", 'promedio':9.87}\r\n",
        "alumno5={'id':9, 'nombre':\"Rob\" , 'carrera':\"IME\", 'promedio':10.00}\r\n",
        "alumno6={'id':10, 'nombre':\"Santi\" , 'carrera':\"ICO\", 'promedio':5.37}\r\n",
        "alumno7={'id':14, 'nombre':\"Moy\" , 'carrera':\"IME\", 'promedio':6.85}\r\n",
        "alumno8={'id':16, 'nombre':\"Diana\" , 'carrera':\"DER\", 'promedio':9.99}\r\n",
        "alumno9={'id':19, 'nombre':\"Zoila\" , 'carrera':\"ICO\", 'promedio':8.22}\r\n",
        "alumno10={'id':22, 'nombre':\"Armando\" , 'carrera':\"ICO\", 'promedio':7.32}\r\n",
        "\r\n",
        "bd = []\r\n",
        "bd.append(alumno1)\r\n",
        "bd.append(alumno2)\r\n",
        "bd.append(alumno3)\r\n",
        "bd.append(alumno4)\r\n",
        "bd.append(alumno5)\r\n",
        "bd.append(alumno6)\r\n",
        "bd.append(alumno7)\r\n",
        "bd.append(alumno8)\r\n",
        "bd.append(alumno9)\r\n",
        "bd.append(alumno10)\r\n",
        "\r\n",
        "def busquedaBinaria(cadena, ide, inicio, final, indice,referencia):\r\n",
        "  if cadena[indice][\"id\"] == ide:\r\n",
        "    print(bd[indice][\"nombre\"], \"estudia la carrera de\", bd[indice][\"carrera\"], \" y tiene un promedio de\", bd[indice][\"promedio\"])\r\n",
        "  elif ide < cadena[indice][\"id\"] and indice<=final:\r\n",
        "    final = final // 2\r\n",
        "    indice = final // 2\r\n",
        "    busquedaBinaria(cadena, ide, inicio, final, indice, referencia)\r\n",
        "  elif ide > cadena[indice][\"id\"] and referencia >= 1:\r\n",
        "    inicio = indice\r\n",
        "    referencia=referencia//2\r\n",
        "    if referencia == 0:\r\n",
        "      referencia = 1\r\n",
        "    indice = inicio+(referencia)\r\n",
        "    busquedaBinaria(cadena, ide, inicio, final, indice,referencia)\r\n",
        "  else:\r\n",
        "    print(\"Alumno no encontrado\")\r\n",
        "    return None\r\n",
        "   \r\n",
        "ide = int(input(\"Inserte su id: \"))\r\n",
        "busquedaBinaria(bd, ide, 0, len(bd), len(bd)//2,len(bd)//2)\r\n",
        "ide = int(input(\"Inserte su id: \"))\r\n",
        "busquedaBinaria(bd, ide, 0, len(bd), len(bd)//2,len(bd)//2)"
      ],
      "execution_count": 2,
      "outputs": [
        {
          "output_type": "stream",
          "text": [
            "Inserte su id: 16\n",
            "Diana estudia la carrera de DER  y tiene un promedio de 9.99\n",
            "Inserte su id: 15\n",
            "Alumno no encontrado\n"
          ],
          "name": "stdout"
        }
      ]
    }
  ]
}