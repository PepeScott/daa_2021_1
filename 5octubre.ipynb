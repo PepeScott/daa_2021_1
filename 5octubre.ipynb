{
  "nbformat": 4,
  "nbformat_minor": 0,
  "metadata": {
    "colab": {
      "name": "5octubre.ipynb",
      "provenance": [],
      "authorship_tag": "ABX9TyN30I4+TVteqHhc/N8nD2+/",
      "include_colab_link": true
    },
    "kernelspec": {
      "name": "python3",
      "display_name": "Python 3"
    }
  },
  "cells": [
    {
      "cell_type": "markdown",
      "metadata": {
        "id": "view-in-github",
        "colab_type": "text"
      },
      "source": [
        "<a href=\"https://colab.research.google.com/github/PepeScott/daa_2021_1/blob/master/5octubre.ipynb\" target=\"_parent\"><img src=\"https://colab.research.google.com/assets/colab-badge.svg\" alt=\"Open In Colab\"/></a>"
      ]
    },
    {
      "cell_type": "markdown",
      "metadata": {
        "id": "g4zMOLSAAcBZ"
      },
      "source": [
        "# Estructura de datos Pila(Stack)\n",
        "-Last In First Out(LIPD)\n",
        "-De tipo lineal\n",
        "-Se puede obtener e ingresar datos desde el tope\n",
        "-push para agregar\n",
        "-pop para sacar\n",
        "\n",
        "## Operaciones de la pila\n",
        "1. is_empty(regrese true o false)\n",
        "2. get_top(regresa el elemento en el tope SIN SACARLO)\n",
        "3. pop(Saca el elemento del tope y lo regresa)\n",
        "4.push(mete un elemnto ene el tope)\n",
        "5.get_length(regresa el numero de elementos de la pila)\n"
      ]
    },
    {
      "cell_type": "code",
      "metadata": {
        "id": "Ptpt9zJw_mU-"
      },
      "source": [
        "class Stack:\n",
        "  def __init__(self):\n",
        "    self.__datos=[]\n",
        "\n",
        "  def is_empty(self):\n",
        "    return len(self.__datos) == 0\n",
        "\n",
        "  def get_top(self):\n",
        "    return self.__datos[-1]\n",
        "\n",
        "  def pop(self):\n",
        "    return self.__datos.pop()\n",
        "  \n",
        "  def push(self,valor):\n",
        "    self.__datos.append(valor)\n",
        "\n",
        "  def get_length(self):\n",
        "    return len(self.__datos)\n",
        "\n",
        "  def to_string(self):\n",
        "    print(\"|------------|\")\n",
        "    for ele in self.__datos[-1::-1]:\n",
        "      print(f\"{ ele }\")\n",
        "    print(\"|------------|\")\n"
      ],
      "execution_count": null,
      "outputs": []
    },
    {
      "cell_type": "code",
      "metadata": {
        "id": "ezfQQdC9GpzB",
        "outputId": "272d40c4-7fca-4299-b51b-2aa0d9169960",
        "colab": {
          "base_uri": "https://localhost:8080/",
          "height": 578
        }
      },
      "source": [
        "pila1=Stack()\n",
        "pila1.push(10)\n",
        "pila1.push(20)\n",
        "pila1.push(1)\n",
        "pila1.push(393)\n",
        "pila1.push(103)\n",
        "pila1.to_string()\n",
        "\n",
        "sacado=pila1.pop()\n",
        "print(sacado)\n",
        "pila1.to_string()\n",
        "\n",
        "pila1.push(444)\n",
        "pila1.push(233)\n",
        "pila1.to_string()\n",
        "\n",
        "print(f\"El elemento en el tope es:{ pila1.get_top() } \")\n",
        "pila1.to_string()\n",
        "print(f\"La pila tiene {pila1.get_length()} elementos\")\n",
        "print(f\"¿La pila esta vacía?: { pila1.is_empty() } \")"
      ],
      "execution_count": null,
      "outputs": [
        {
          "output_type": "stream",
          "text": [
            "|------------|\n",
            "103\n",
            "393\n",
            "1\n",
            "20\n",
            "10\n",
            "|------------|\n",
            "103\n",
            "|------------|\n",
            "393\n",
            "1\n",
            "20\n",
            "10\n",
            "|------------|\n",
            "|------------|\n",
            "233\n",
            "444\n",
            "393\n",
            "1\n",
            "20\n",
            "10\n",
            "|------------|\n",
            "El elemento en el tope es:233 \n",
            "|------------|\n",
            "233\n",
            "444\n",
            "393\n",
            "1\n",
            "20\n",
            "10\n",
            "|------------|\n",
            "La pila tiene 6 elementos\n",
            "¿La pila esta vacía?: False \n"
          ],
          "name": "stdout"
        }
      ]
    },
    {
      "cell_type": "markdown",
      "metadata": {
        "id": "pYLS__MuKyw8"
      },
      "source": [
        "# ejemplo de aplicación\n",
        "x=4+5+6+3\n",
        "\n",
        "x=4+(5+6)+3\n",
        "\n",
        "x=4+5+6)+3\n",
        "\n",
        "x=(4+(5+6)+3)\n",
        "\n",
        "\n",
        "if(a==b){System.out.println(b)\n",
        "\n",
        "if(a==b){System.out.println(b}\n",
        "\n",
        "#reglas\n",
        "### '(' --->push('@')\n",
        "### ')' --->pop()\n",
        "Si al final del recorrido la pila esta vacia , entonces la cadena es correcta\n",
        "Si en un pop desencadena en querer sacar un elemento en la pila vacia significa que la cadena no esta balanceada\n",
        "\n"
      ]
    },
    {
      "cell_type": "markdown",
      "metadata": {
        "id": "8wcMH_pJNyYN"
      },
      "source": [
        "#tarea\n",
        "Hacer un programa que valida el valancep de '{}', '()' y '[]'\n",
        "en programas del lenguaje c y java\n",
        "\n",
        "tomando como base el codigo de la clase"
      ]
    }
  ]
}