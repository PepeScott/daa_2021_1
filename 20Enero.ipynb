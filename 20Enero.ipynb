{
  "nbformat": 4,
  "nbformat_minor": 0,
  "metadata": {
    "colab": {
      "name": "13Enero.ipynb",
      "provenance": [],
      "authorship_tag": "ABX9TyMAbUgm1yCRN0JGCWCrw94K",
      "include_colab_link": true
    },
    "kernelspec": {
      "name": "python3",
      "display_name": "Python 3"
    }
  },
  "cells": [
    {
      "cell_type": "markdown",
      "metadata": {
        "id": "view-in-github",
        "colab_type": "text"
      },
      "source": [
        "<a href=\"https://colab.research.google.com/github/PepeScott/daa_2021_1/blob/master/20Enero.ipynb\" target=\"_parent\"><img src=\"https://colab.research.google.com/assets/colab-badge.svg\" alt=\"Open In Colab\"/></a>"
      ]
    },
    {
      "cell_type": "code",
      "metadata": {
        "id": "Muw3TGdNS_WO"
      },
      "source": [
        "class NodoArbol:\r\n",
        "  def __init__(self,dato,hijo_izq=None,hijo_der=None):\r\n",
        "    self.dato=dato\r\n",
        "    self.left=hijo_izq\r\n",
        "    self.right=hijo_der"
      ],
      "execution_count": 20,
      "outputs": []
    },
    {
      "cell_type": "code",
      "metadata": {
        "id": "QWkqKVBfTBqN"
      },
      "source": [
        "class BinarySearchTree:\r\n",
        "  def __init__(self):\r\n",
        "    self.__root=None\r\n",
        "  \r\n",
        "  def insert(self,value):\r\n",
        "    if self.__root==None:\r\n",
        "      self.__root=NodoArbol(value,None,None)\r\n",
        "    else:\r\n",
        "      self.__insert_nodo__(self.__root,value)\r\n",
        "  \r\n",
        "  def __insert_nodo__(self,nodo,value):\r\n",
        "    if nodo.dato == value:\r\n",
        "      pass\r\n",
        "    elif value < nodo.dato:\r\n",
        "      if nodo.left == None:\r\n",
        "        nodo.left=NodoArbol(value,None,None)\r\n",
        "      else:\r\n",
        "        self.__insert_nodo__(nodo.left,value)\r\n",
        "    else:\r\n",
        "      if nodo.right==None:\r\n",
        "        nodo.right=NodoArbol(value,None,None)\r\n",
        "      else:\r\n",
        "        self.__insert_nodo__(nodo.right,value)\r\n",
        "    \r\n",
        "  def buscar(self,value):\r\n",
        "    if self.__root == None:\r\n",
        "      return None\r\n",
        "    else:\r\n",
        "      return self.__busca_nodo(self.__root, value)\r\n",
        "  \r\n",
        "  def __busca_nodo(self,nodo,value):\r\n",
        "    if nodo == None:\r\n",
        "      return None\r\n",
        "    elif nodo.dato == value:\r\n",
        "      return nodo.dato\r\n",
        "    elif value < nodo.dato:\r\n",
        "      return self.__busca_nodo(nodo.left,value)\r\n",
        "    else:\r\n",
        "      return self.__busca_nodo(nodo.right,value)\r\n",
        "  \r\n",
        "  def transversal(self,format=\"inorden\"):\r\n",
        "    if format == \"inorden\":\r\n",
        "      self.__recorrido_in(self.__root)\r\n",
        "    elif format == \"preorden\":\r\n",
        "      self.__recorrido_pre(self.__root)\r\n",
        "    elif format == \"posorden\":\r\n",
        "      self.__recorrido_pos(self.__root)\r\n",
        "    else:\r\n",
        "      print(\"Formato de recorrido no valido\")\r\n",
        "  \r\n",
        "  def __recorrido_pre(self,nodo):\r\n",
        "    if nodo != None:\r\n",
        "      print(nodo.dato,end=\",\")\r\n",
        "      self.__recorrido_pre(nodo.left)\r\n",
        "      self.__recorrido_pre(nodo.right)\r\n",
        "  \r\n",
        "  def __recorrido_in(self,nodo):\r\n",
        "    if nodo != None:\r\n",
        "      self.__recorrido_in(nodo.left)\r\n",
        "      print(nodo.dato,end=\",\")\r\n",
        "      self.__recorrido_in(nodo.right)\r\n",
        "  \r\n",
        "  def __recorrido_pos(self,nodo):\r\n",
        "    if nodo != None:\r\n",
        "      self.__recorrido_pos(nodo.left)\r\n",
        "      self.__recorrido_pos(nodo.right)\r\n",
        "      print(nodo.dato,end=\",\")\r\n"
      ],
      "execution_count": 22,
      "outputs": []
    },
    {
      "cell_type": "code",
      "metadata": {
        "id": "FKJEuSQ9b9Ed",
        "colab": {
          "base_uri": "https://localhost:8080/"
        },
        "outputId": "e2304437-5e01-41bf-c055-1a2ecbfc869f"
      },
      "source": [
        "bst=BinarySearchTree()\r\n",
        "bst.insert(50)\r\n",
        "bst.insert(30)\r\n",
        "bst.insert(20)\r\n",
        "res=bst.buscar(30)\r\n",
        "print(\"Dato: \"+str(res))\r\n",
        "print(bst.buscar(40))\r\n",
        "print(\"recorrido pre:\")\r\n",
        "bst.transversal(format=\"preorden\")\r\n",
        "print(\"\\nrecorrido in:\")\r\n",
        "bst.transversal(format=\"inorden\")"
      ],
      "execution_count": 25,
      "outputs": [
        {
          "output_type": "stream",
          "text": [
            "Dato: 30\n",
            "None\n",
            "recorrido pre:\n",
            "50,30,20,\n",
            "recorrido in:\n",
            "20,30,50,"
          ],
          "name": "stdout"
        }
      ]
    }
  ]
}