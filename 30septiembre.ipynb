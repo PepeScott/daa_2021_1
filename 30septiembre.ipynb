{
  "nbformat": 4,
  "nbformat_minor": 0,
  "metadata": {
    "colab": {
      "name": "30septiembre.ipynb",
      "provenance": [],
      "authorship_tag": "ABX9TyOZDRVEv0DPvULQeUfkm1Dl",
      "include_colab_link": true
    },
    "kernelspec": {
      "name": "python3",
      "display_name": "Python 3"
    }
  },
  "cells": [
    {
      "cell_type": "markdown",
      "metadata": {
        "id": "view-in-github",
        "colab_type": "text"
      },
      "source": [
        "<a href=\"https://colab.research.google.com/github/PepeScott/daa_2021_1/blob/master/30septiembre.ipynb\" target=\"_parent\"><img src=\"https://colab.research.google.com/assets/colab-badge.svg\" alt=\"Open In Colab\"/></a>"
      ]
    },
    {
      "cell_type": "markdown",
      "metadata": {
        "id": "Z_rU3_yNQlbc"
      },
      "source": [
        "# Palindromo\n",
        "Palabra que se lee, de igual forma de un sentido y de sentido inverso, ejemplo:\n",
        "1. sugus\n",
        "2. oso\n",
        "3. reconocer\n",
        "\n",
        "etc\n",
        "\n",
        "Planteamiento del problema\n",
        "Se desea encontrar tdos los palindromos que existen en la franja horaria de un dia completa, tomando como horario incila las 00:00 y como horario final las 23:59 horas.\n",
        "\n",
        "El algoritmo debe mostrar en pantalla los palindromos existnetes en ese rango, al final debe , mostrar el conteo total de palindromo existente "
      ]
    },
    {
      "cell_type": "code",
      "metadata": {
        "id": "XjCciRitPunM",
        "outputId": "48d3a892-e5dc-4cd5-cdbc-b2b1e7cb28d1",
        "colab": {
          "base_uri": "https://localhost:8080/",
          "height": 340
        }
      },
      "source": [
        "valor=[None,None,':',None,None]\n",
        "conteo=0\n",
        "entro=0\n",
        "for horaUno in range(0,3,1):\n",
        "  valor[0]=horaUno\n",
        "  for horaDos in range(0,10,1):\n",
        "      if valor[0] == 2 and horaDos <= 3:\n",
        "        valor[1]= horaDos\n",
        "      elif valor[0] != 2:\n",
        "        valor[1]=horaDos\n",
        "      for segUno in range(0,7,1):\n",
        "        valor[3]=segUno\n",
        "        for segDos in range(0,10,1):\n",
        "          valor[4]=segDos\n",
        "          if valor[0] == valor[4] and valor[1]==valor[3]:\n",
        "            if valor[0] == 2 and valor[1]==3:\n",
        "              if entro == 0:\n",
        "                entro+=1\n",
        "                conteo+=1\n",
        "                print(valor)\n",
        "            else:   \n",
        "              conteo+=1\n",
        "              print(valor)\n",
        "              \n",
        "print(conteo)\n",
        "\n"
      ],
      "execution_count": 63,
      "outputs": [
        {
          "output_type": "stream",
          "text": [
            "[0, 0, ':', 0, 0]\n",
            "[0, 1, ':', 1, 0]\n",
            "[0, 2, ':', 2, 0]\n",
            "[0, 3, ':', 3, 0]\n",
            "[0, 4, ':', 4, 0]\n",
            "[0, 5, ':', 5, 0]\n",
            "[0, 6, ':', 6, 0]\n",
            "[1, 0, ':', 0, 1]\n",
            "[1, 1, ':', 1, 1]\n",
            "[1, 2, ':', 2, 1]\n",
            "[1, 3, ':', 3, 1]\n",
            "[1, 4, ':', 4, 1]\n",
            "[1, 5, ':', 5, 1]\n",
            "[1, 6, ':', 6, 1]\n",
            "[2, 0, ':', 0, 2]\n",
            "[2, 1, ':', 1, 2]\n",
            "[2, 2, ':', 2, 2]\n",
            "[2, 3, ':', 3, 2]\n",
            "18\n"
          ],
          "name": "stdout"
        }
      ]
    },
    {
      "cell_type": "code",
      "metadata": {
        "id": "shA7V7a3jJ8C"
      },
      "source": [
        ""
      ],
      "execution_count": null,
      "outputs": []
    }
  ]
}