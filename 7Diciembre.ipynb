{
  "nbformat": 4,
  "nbformat_minor": 0,
  "metadata": {
    "colab": {
      "name": "2Diciembre.ipynb",
      "provenance": [],
      "authorship_tag": "ABX9TyOaoRYzBQGvDSB+/nz+Y6oG",
      "include_colab_link": true
    },
    "kernelspec": {
      "name": "python3",
      "display_name": "Python 3"
    }
  },
  "cells": [
    {
      "cell_type": "markdown",
      "metadata": {
        "id": "view-in-github",
        "colab_type": "text"
      },
      "source": [
        "<a href=\"https://colab.research.google.com/github/PepeScott/daa_2021_1/blob/master/7Diciembre.ipynb\" target=\"_parent\"><img src=\"https://colab.research.google.com/assets/colab-badge.svg\" alt=\"Open In Colab\"/></a>"
      ]
    },
    {
      "cell_type": "code",
      "metadata": {
        "id": "xgB_6wf1_z8o"
      },
      "source": [
        "def fnRecInfinita():\n",
        "  print(\"Hola\")\n",
        "  fnRecInfinita()"
      ],
      "execution_count": null,
      "outputs": []
    },
    {
      "cell_type": "code",
      "metadata": {
        "id": "ITR0I8sUAB8Q"
      },
      "source": [
        "fnRcInfinita()"
      ],
      "execution_count": null,
      "outputs": []
    },
    {
      "cell_type": "code",
      "metadata": {
        "colab": {
          "base_uri": "https://localhost:8080/"
        },
        "id": "thLj5mCJAUEH",
        "outputId": "1a1baeb1-9b7b-414e-e268-95222f131872"
      },
      "source": [
        "def fnRec(x):\n",
        "  if x==0:\n",
        "    print(\"Stop\")\n",
        "  else:\n",
        "    fnRec(x-1)\n",
        "    print(x)\n",
        "def main():\n",
        "  print(\"Inicio de programa\")\n",
        "  fnRec(5)\n",
        "  print(\"Fin de programa\")\n",
        "\n",
        "main()"
      ],
      "execution_count": null,
      "outputs": [
        {
          "output_type": "stream",
          "text": [
            "Inicio de programa\n",
            "Stop\n",
            "1\n",
            "2\n",
            "3\n",
            "4\n",
            "5\n",
            "Fin de programa\n"
          ],
          "name": "stdout"
        }
      ]
    },
    {
      "cell_type": "code",
      "metadata": {
        "colab": {
          "base_uri": "https://localhost:8080/"
        },
        "id": "uCjqo5jLBeOe",
        "outputId": "aed4b0d1-0131-4625-d811-1e53deb16168"
      },
      "source": [
        "def printRev(x):\n",
        "  if x > 0:\n",
        "    printRev(x-1)\n",
        "    print(x)\n",
        "printRev(3)"
      ],
      "execution_count": null,
      "outputs": [
        {
          "output_type": "stream",
          "text": [
            "1\n",
            "2\n",
            "3\n"
          ],
          "name": "stdout"
        }
      ]
    },
    {
      "cell_type": "code",
      "metadata": {
        "colab": {
          "base_uri": "https://localhost:8080/"
        },
        "id": "ul7hJgOsIxg5",
        "outputId": "ad20afed-4f65-4383-8255-e4164bdd9962"
      },
      "source": [
        "def fibonacci(n):\n",
        "  print(\"Llamada\", n)\n",
        "  if n==1 or n==0:\n",
        "    return n\n",
        "  else:\n",
        "    return (fibonacci(n-1)+fibonacci(n-2))\n",
        "\n",
        "print(fibonacci(4))"
      ],
      "execution_count": 3,
      "outputs": [
        {
          "output_type": "stream",
          "text": [
            "Llamada 4\n",
            "Llamada 3\n",
            "Llamada 2\n",
            "Llamada 1\n",
            "Llamada 0\n",
            "Llamada 1\n",
            "Llamada 2\n",
            "Llamada 1\n",
            "Llamada 0\n",
            "3\n"
          ],
          "name": "stdout"
        }
      ]
    }
  ]
}