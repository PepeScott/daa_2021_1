{
  "nbformat": 4,
  "nbformat_minor": 0,
  "metadata": {
    "colab": {
      "name": "19octubre.ipynb",
      "provenance": [],
      "authorship_tag": "ABX9TyO70LuUyad8qM0YsgaiNrIT",
      "include_colab_link": true
    },
    "kernelspec": {
      "name": "python3",
      "display_name": "Python 3"
    }
  },
  "cells": [
    {
      "cell_type": "markdown",
      "metadata": {
        "id": "view-in-github",
        "colab_type": "text"
      },
      "source": [
        "<a href=\"https://colab.research.google.com/github/PepeScott/daa_2021_1/blob/master/19octubre.ipynb\" target=\"_parent\"><img src=\"https://colab.research.google.com/assets/colab-badge.svg\" alt=\"Open In Colab\"/></a>"
      ]
    },
    {
      "cell_type": "code",
      "metadata": {
        "id": "p2tRLb0WNwnP",
        "outputId": "75b2a909-358e-4816-caae-ee4016820bae",
        "colab": {
          "base_uri": "https://localhost:8080/",
          "height": 272
        }
      },
      "source": [
        "a2d=[[3,2,1],[6,4,8],[7,4,2]]\n",
        "n=3\n",
        "print(a2d)\n",
        "\n",
        "total=0\n",
        "print(\"nivel 1\")\n",
        "for ren in range(n):\n",
        "  sumaRenglon=0\n",
        "  print(\"nivel 2\")\n",
        "  for col in range(n):\n",
        "    sumaRenglon +=a2d[ren][col]\n",
        "    total +=a2d[ren][col]\n",
        "    print(\"nivel 3\")\n",
        "print(total)"
      ],
      "execution_count": null,
      "outputs": [
        {
          "output_type": "stream",
          "text": [
            "[[3, 2, 1], [6, 4, 8], [7, 4, 2]]\n",
            "nivel 1\n",
            "nivel 2\n",
            "nivel 3\n",
            "nivel 3\n",
            "nivel 3\n",
            "nivel 2\n",
            "nivel 3\n",
            "nivel 3\n",
            "nivel 3\n",
            "nivel 2\n",
            "nivel 3\n",
            "nivel 3\n",
            "nivel 3\n",
            "37\n"
          ],
          "name": "stdout"
        }
      ]
    }
  ]
}