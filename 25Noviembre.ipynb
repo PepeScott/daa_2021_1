{
  "nbformat": 4,
  "nbformat_minor": 0,
  "metadata": {
    "colab": {
      "name": "25Noviembre.ipynb",
      "provenance": [],
      "authorship_tag": "ABX9TyMnCUMqtrgpkFY1ugRs8QtZ",
      "include_colab_link": true
    },
    "kernelspec": {
      "name": "python3",
      "display_name": "Python 3"
    }
  },
  "cells": [
    {
      "cell_type": "markdown",
      "metadata": {
        "id": "view-in-github",
        "colab_type": "text"
      },
      "source": [
        "<a href=\"https://colab.research.google.com/github/PepeScott/daa_2021_1/blob/master/25Noviembre.ipynb\" target=\"_parent\"><img src=\"https://colab.research.google.com/assets/colab-badge.svg\" alt=\"Open In Colab\"/></a>"
      ]
    },
    {
      "cell_type": "code",
      "metadata": {
        "colab": {
          "base_uri": "https://localhost:8080/"
        },
        "id": "Z1ey87Zi6DA2",
        "outputId": "22c2c753-883a-4a39-de98-42ef41b17270"
      },
      "source": [
        "frase=\"\"\"El lema que anima a la Universidad Nacional, Por mi raza hablará el espíritu, revela la vocación humanística con la que fue concebida. El autor de esta célebre frase, José Vasconcelos, asumió la rectoría en 1920, en una época en que las esperanzas de la Revolución aún estaban vivas,\n",
        " había una gran fé en la Patria y el ánimo redentor se extendía en el ambiente.\"\"\"\n",
        "frase = frase.strip().replace(\"\\n\",\"\").replace(\",\",\"\").replace(\".\",\"\").lower().split()\n",
        "print(frase)\n",
        "frecuencias={}\n",
        "for index in range(len(frase)):\n",
        "  if frase[index] in frecuencias:\n",
        "    pass\n",
        "  else:\n",
        "    frecuencias[frase[index]]=1\n",
        "    for pivote in range(index+1,len(frase),1):\n",
        "      #print(frase(index), \"Comparada contra:\", frase[pivote])\n",
        "      if frase[index]==frase[pivote]:\n",
        "        frecuencias[frase[index]]+=1\n",
        "print(frecuencias)"
      ],
      "execution_count": 9,
      "outputs": [
        {
          "output_type": "stream",
          "text": [
            "['el', 'lema', 'que', 'anima', 'a', 'la', 'universidad', 'nacional', 'por', 'mi', 'raza', 'hablará', 'el', 'espíritu', 'revela', 'la', 'vocación', 'humanística', 'con', 'la', 'que', 'fue', 'concebida', 'el', 'autor', 'de', 'esta', 'célebre', 'frase', 'josé', 'vasconcelos', 'asumió', 'la', 'rectoría', 'en', '1920', 'en', 'una', 'época', 'en', 'que', 'las', 'esperanzas', 'de', 'la', 'revolución', 'aún', 'estaban', 'vivas', 'había', 'una', 'gran', 'fé', 'en', 'la', 'patria', 'y', 'el', 'ánimo', 'redentor', 'se', 'extendía', 'en', 'el', 'ambiente']\n",
            "{'el': 5, 'lema': 1, 'que': 3, 'anima': 1, 'a': 1, 'la': 6, 'universidad': 1, 'nacional': 1, 'por': 1, 'mi': 1, 'raza': 1, 'hablará': 1, 'espíritu': 1, 'revela': 1, 'vocación': 1, 'humanística': 1, 'con': 1, 'fue': 1, 'concebida': 1, 'autor': 1, 'de': 2, 'esta': 1, 'célebre': 1, 'frase': 1, 'josé': 1, 'vasconcelos': 1, 'asumió': 1, 'rectoría': 1, 'en': 5, '1920': 1, 'una': 2, 'época': 1, 'las': 1, 'esperanzas': 1, 'revolución': 1, 'aún': 1, 'estaban': 1, 'vivas': 1, 'había': 1, 'gran': 1, 'fé': 1, 'patria': 1, 'y': 1, 'ánimo': 1, 'redentor': 1, 'se': 1, 'extendía': 1, 'ambiente': 1}\n"
          ],
          "name": "stdout"
        }
      ]
    },
    {
      "cell_type": "code",
      "metadata": {
        "colab": {
          "base_uri": "https://localhost:8080/"
        },
        "id": "jGpXBYiH_Wrq",
        "outputId": "37be38cd-e3ee-4299-aedd-10ca9dfb4bea"
      },
      "source": [
        "frase=\"\"\"El lema que anima a la Universidad Nacional, Por mi raza hablará el espíritu, revela la vocación humanística con la que fue concebida. El autor de esta célebre frase, José Vasconcelos, asumió la rectoría en 1920, en una época en que las esperanzas de la Revolución aún estaban vivas,\n",
        " había una gran fé en la Patria y el ánimo redentor se extendía en el ambiente.\"\"\"\n",
        "frase = frase.strip().replace(\"\\n\",\"\").replace(\",\",\"\").replace(\".\",\"\").lower().split()\n",
        "print(frase)\n",
        "frecuencias={}\n",
        "for index in range(len(frase)):\n",
        "  print(hash(frase[index]))\n",
        "  if frase[index] in frecuencias:\n",
        "    frecuencias[frase[index]] +=1\n",
        "  else:\n",
        "    frecuencias[frase[index]] =1\n",
        "print(frecuencias)"
      ],
      "execution_count": 10,
      "outputs": [
        {
          "output_type": "stream",
          "text": [
            "['el', 'lema', 'que', 'anima', 'a', 'la', 'universidad', 'nacional', 'por', 'mi', 'raza', 'hablará', 'el', 'espíritu', 'revela', 'la', 'vocación', 'humanística', 'con', 'la', 'que', 'fue', 'concebida', 'el', 'autor', 'de', 'esta', 'célebre', 'frase', 'josé', 'vasconcelos', 'asumió', 'la', 'rectoría', 'en', '1920', 'en', 'una', 'época', 'en', 'que', 'las', 'esperanzas', 'de', 'la', 'revolución', 'aún', 'estaban', 'vivas', 'había', 'una', 'gran', 'fé', 'en', 'la', 'patria', 'y', 'el', 'ánimo', 'redentor', 'se', 'extendía', 'en', 'el', 'ambiente']\n",
            "-2483053275872559145\n",
            "-1304243921789732586\n",
            "4840798418129640987\n",
            "1378897280215032972\n",
            "6550845712295934157\n",
            "-3046838525182040468\n",
            "-2736050607091552227\n",
            "3258254197881371649\n",
            "-4374106298259695045\n",
            "-7045820953403321407\n",
            "5803710239526000608\n",
            "1188076065305187789\n",
            "-2483053275872559145\n",
            "7759931284642545764\n",
            "931433357096182638\n",
            "-3046838525182040468\n",
            "-1679333495777646338\n",
            "8760668597975855700\n",
            "7705106308926431311\n",
            "-3046838525182040468\n",
            "4840798418129640987\n",
            "8802343964351558688\n",
            "-1056480800281664283\n",
            "-2483053275872559145\n",
            "-2798556280989333103\n",
            "4735538350111690464\n",
            "1317150264867476579\n",
            "-4529956482711455288\n",
            "3350668958358426172\n",
            "7823735883566817104\n",
            "3507695671486119001\n",
            "8970332253453943761\n",
            "-3046838525182040468\n",
            "-8378014783114951277\n",
            "-1285793582390485431\n",
            "-3190846120671179094\n",
            "-1285793582390485431\n",
            "4874220063416690386\n",
            "6564421017677635352\n",
            "-1285793582390485431\n",
            "4840798418129640987\n",
            "1793918537100920219\n",
            "-7468486926974820132\n",
            "4735538350111690464\n",
            "-3046838525182040468\n",
            "-594625882807565535\n",
            "-2894138488347123643\n",
            "-6460700686395736419\n",
            "5370422145158892098\n",
            "1027742566899408614\n",
            "4874220063416690386\n",
            "3818977857293839360\n",
            "3104070482682677126\n",
            "-1285793582390485431\n",
            "-3046838525182040468\n",
            "-4354692960426550478\n",
            "6957035386540513436\n",
            "-2483053275872559145\n",
            "-1700154737679572011\n",
            "3253110087846464283\n",
            "-9130020999823230342\n",
            "-7138944639661354158\n",
            "-1285793582390485431\n",
            "-2483053275872559145\n",
            "-1890310653230591379\n",
            "{'el': 5, 'lema': 1, 'que': 3, 'anima': 1, 'a': 1, 'la': 6, 'universidad': 1, 'nacional': 1, 'por': 1, 'mi': 1, 'raza': 1, 'hablará': 1, 'espíritu': 1, 'revela': 1, 'vocación': 1, 'humanística': 1, 'con': 1, 'fue': 1, 'concebida': 1, 'autor': 1, 'de': 2, 'esta': 1, 'célebre': 1, 'frase': 1, 'josé': 1, 'vasconcelos': 1, 'asumió': 1, 'rectoría': 1, 'en': 5, '1920': 1, 'una': 2, 'época': 1, 'las': 1, 'esperanzas': 1, 'revolución': 1, 'aún': 1, 'estaban': 1, 'vivas': 1, 'había': 1, 'gran': 1, 'fé': 1, 'patria': 1, 'y': 1, 'ánimo': 1, 'redentor': 1, 'se': 1, 'extendía': 1, 'ambiente': 1}\n"
          ],
          "name": "stdout"
        }
      ]
    }
  ]
}