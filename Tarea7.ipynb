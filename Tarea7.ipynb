{
  "nbformat": 4,
  "nbformat_minor": 0,
  "metadata": {
    "colab": {
      "name": "Tarea7.ipynb",
      "provenance": [],
      "authorship_tag": "ABX9TyN9nVwTq+ESDig21rSjxIlO",
      "include_colab_link": true
    },
    "kernelspec": {
      "name": "python3",
      "display_name": "Python 3"
    }
  },
  "cells": [
    {
      "cell_type": "markdown",
      "metadata": {
        "id": "view-in-github",
        "colab_type": "text"
      },
      "source": [
        "<a href=\"https://colab.research.google.com/github/PepeScott/daa_2021_1/blob/master/Tarea7.ipynb\" target=\"_parent\"><img src=\"https://colab.research.google.com/assets/colab-badge.svg\" alt=\"Open In Colab\"/></a>"
      ]
    },
    {
      "cell_type": "code",
      "metadata": {
        "colab": {
          "base_uri": "https://localhost:8080/"
        },
        "id": "9htTsGIhfFvc",
        "outputId": "1dd4e3be-d1e3-4f34-d7aa-7b3b5df90f3d"
      },
      "source": [
        "def printRev(x,contador):\n",
        "  if x == []:\n",
        "    print(contador)\n",
        "  else:\n",
        "    contador=contador+x[-1]\n",
        "    x.pop()\n",
        "    printRev(x,contador)\n",
        "printRev([1,2,3,9],0)"
      ],
      "execution_count": null,
      "outputs": [
        {
          "output_type": "stream",
          "text": [
            "15\n"
          ],
          "name": "stdout"
        }
      ]
    },
    {
      "cell_type": "code",
      "metadata": {
        "colab": {
          "base_uri": "https://localhost:8080/"
        },
        "id": "jeWNltT8_dzT",
        "outputId": "4cc6eec9-2c96-4577-f2a3-482799aef0b4"
      },
      "source": [
        "def fnRec(x):\n",
        "  if x==0:\n",
        "    print(\"Stop\")\n",
        "  else:\n",
        "    print(x)\n",
        "    fnRec(x-1)\n",
        "\n",
        "fnRec(5)"
      ],
      "execution_count": null,
      "outputs": [
        {
          "output_type": "stream",
          "text": [
            "5\n",
            "4\n",
            "3\n",
            "2\n",
            "1\n",
            "Stop\n"
          ],
          "name": "stdout"
        }
      ]
    },
    {
      "cell_type": "code",
      "metadata": {
        "colab": {
          "base_uri": "https://localhost:8080/"
        },
        "id": "anwHLPSAHnwL",
        "outputId": "add71d00-0cf0-4219-e4e7-eabf4fe60d8c"
      },
      "source": [
        "#El método solo sirve cuando la longitud sea de 3 elementos y el numero de en medio sea mayor a los primero\n",
        "def lista(a,n,contadorUno,contadorDos):\n",
        "  if a == []:\n",
        "    n.reverse()\n",
        "    print(n)\n",
        "  else:\n",
        "    if n > a and contadorUno == contadorDos:\n",
        "      a.pop()\n",
        "      contadorUno+=1\n",
        "      lista(a,n,contadorUno,contadorDos)\n",
        "    else:\n",
        "      n.append(a[-1])\n",
        "      a.pop()\n",
        "      contadorUno+=1\n",
        "      contadorDos+=1\n",
        "      lista(a,n,contadorUno,contadorDos)\n",
        "\n",
        "a=[1,8,2]\n",
        "n=[]\n",
        "contadorUno=0\n",
        "contadorDos=0\n",
        "lista(a,n,contadorUno, contadorDos)"
      ],
      "execution_count": 59,
      "outputs": [
        {
          "output_type": "stream",
          "text": [
            "[1, 2]\n"
          ],
          "name": "stdout"
        }
      ]
    }
  ]
}