{
  "nbformat": 4,
  "nbformat_minor": 0,
  "metadata": {
    "colab": {
      "name": "7octubre.ipynb",
      "provenance": [],
      "authorship_tag": "ABX9TyParhSwR+VJijHR45Frw0Dj",
      "include_colab_link": true
    },
    "kernelspec": {
      "name": "python3",
      "display_name": "Python 3"
    }
  },
  "cells": [
    {
      "cell_type": "markdown",
      "metadata": {
        "id": "view-in-github",
        "colab_type": "text"
      },
      "source": [
        "<a href=\"https://colab.research.google.com/github/PepeScott/daa_2021_1/blob/master/7octubre.ipynb\" target=\"_parent\"><img src=\"https://colab.research.google.com/assets/colab-badge.svg\" alt=\"Open In Colab\"/></a>"
      ]
    },
    {
      "cell_type": "markdown",
      "metadata": {
        "id": "2OLotDMHTOHE"
      },
      "source": [
        "# Busqueda Lineal\n",
        "Dado un conjunto de datos no ordenados, la busqueda lineal, consiste en recorrer el conjunto de datos desde el inicio al final, moviendose de uno en uno hasta encontrar el elemento o llegar al final del conjunto.\n",
        "\n",
        "datos = [ 4,18,47,2,34,14,78,12,48,21,31,19,1,3,5]\n",
        "\n",
        "#Busqueda Binaria\n",
        "funciona sobre un conjunto de datos lineal ordenado.\n",
        "Consiste en dividir el conjunto en mitades y buscar en esa mitad. si el elemento buscado no esta en la mita, preguntas si el elemento esta a la derecha o a la izquierda. \n",
        "Haces la lista igual a la mitad correspondiente y repites el proceso\n",
        "\n",
        "L=[1, 2, 3, 4, 5, 12, 14, 18, 19, 21, 31, 34, 47, 48, 78]\n",
        "\n",
        "Der=longitud(l)-1\n",
        "\n",
        "Izq=0\n",
        "\n",
        "Mid apuntara a la mitad del segmentode busqueda\n",
        "\n",
        "buscado es el valor buscado \n",
        "\n",
        "1. Hacer Der=longitud(L)-1\n",
        "2. Hacer Izq=0\n",
        "3. Si Izq > Der significa que hay un error en los datos\n",
        "4. calcular mid=int((Izq+Der)/2)\n",
        "5. mientras L[Mid] != buscado hacer \n",
        "6.    - preguntar L[Mid] > buscado\n",
        "        - hacer Der=Mid\n",
        "      - de lo contrario \n",
        "        - hacer izq = Mid\n",
        "      - preguntar (Der - Izq)%2\n",
        "        -Mid = (Izq + ((Der- Izq)/2)+1\n",
        "      - de lo contrario\n",
        "        - Mid = Izq+((Der-Izq)/2)\n",
        "7. return Mid"
      ]
    },
    {
      "cell_type": "code",
      "metadata": {
        "id": "ck0ThXFLTLm7",
        "outputId": "7aa033bb-235f-44df-a3c3-608756c86a1c",
        "colab": {
          "base_uri": "https://localhost:8080/",
          "height": 238
        }
      },
      "source": [
        "#Busqueda Lineal \n",
        "#regresa la posicion del elemento 'buscado' si encunetra dentro de la lista\n",
        "#regresa -1 si elemento buscado no existe dentro de la lista\n",
        "def busq_lineal(L,buscado):\n",
        "  indice=-1\n",
        "  contador=0\n",
        "  for idx in range(len(L)):\n",
        "    contador +=1\n",
        "    if L[idx] == buscado:\n",
        "      indice=idx\n",
        "      break\n",
        "  print(f\"numero de comparaciones realizadas={contador}\")\n",
        "  return indice\n",
        "\n",
        "#Busqueda Binaria\n",
        "def busqueda_binaria( L , buscado):\n",
        "    indice = -1\n",
        "    IZQ = 0\n",
        "    DER = len(L)-1\n",
        "    MID = 0\n",
        "    while not(IZQ > DER):\n",
        "        MID = (IZQ + DER)//2\n",
        "        if(L[MID] < buscado ):\n",
        "            IZQ = MID + 1 \n",
        "        else:\n",
        "            DER = MID - 1\n",
        "        print(f\"Comparar buscado:{buscado} con {L[MID]}\")\n",
        "        if L[MID] == buscado:\n",
        "            indice = MID\n",
        "            break\n",
        "    return indice\n",
        "    \n",
        "\n",
        "\"Busqueda binaria recursiva\"\n",
        "def busqueda_binaria_recursiva( L , buscado, IZQ , DER):\n",
        "    MID = (IZQ + DER) //2\n",
        "    if IZQ >= DER:\n",
        "        return -1\n",
        "    if L[MID] == buscado: \n",
        "        return MID\n",
        "    elif L[MID] < buscado:\n",
        "        return busqueda_binaria_recursiva(L,buscado,MID+1,DER)\n",
        "    else:\n",
        "        return busqueda_binaria_recursiva(L,buscado,IZQ,MID)\n",
        "def main():\n",
        "  datos = [ 4,18,47,2,34,14,78,12,48,21,31,19,1,3,5]\n",
        "  dato = int(input(\"Que valor quieres buscar: \"))\n",
        "  resultado= busq_lineal(datos,dato)\n",
        "  print(\"Resultado\", resultado)\n",
        "  print(\"Busqueda lineal en una lista ordenada\")\n",
        "\n",
        "  datos.sort()\n",
        "  print(datos)\n",
        "  resultado= busq_lineal(datos,dato)\n",
        "  print(\"Resultado\", resultado)\n",
        "\n",
        "  print(\"busqueda binaria\")\n",
        "  posicion = busqueda_binaria(datos,47)\n",
        "  print(\"El elemento {dato} esta en la {posicion} de la lista\")\n",
        "main()\n"
      ],
      "execution_count": 1,
      "outputs": [
        {
          "output_type": "stream",
          "text": [
            "Que valor quieres buscar: 47\n",
            "numero de comparaciones realizadas=3\n",
            "Resultado 2\n",
            "Busqueda lineal en una lista ordenada\n",
            "[1, 2, 3, 4, 5, 12, 14, 18, 19, 21, 31, 34, 47, 48, 78]\n",
            "numero de comparaciones realizadas=13\n",
            "Resultado 12\n",
            "busqueda binaria\n",
            "Comparar buscado:47 con 18\n",
            "Comparar buscado:47 con 34\n",
            "Comparar buscado:47 con 48\n",
            "Comparar buscado:47 con 47\n",
            "El elemento {dato} esta en la {posicion} de la lista\n"
          ],
          "name": "stdout"
        }
      ]
    }
  ]
}