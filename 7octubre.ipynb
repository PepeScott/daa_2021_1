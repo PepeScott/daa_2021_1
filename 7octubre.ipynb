{
  "nbformat": 4,
  "nbformat_minor": 0,
  "metadata": {
    "colab": {
      "name": "7octubre.ipynb",
      "provenance": [],
      "authorship_tag": "ABX9TyMaTuNXPM6iEZBoxxmL8mqm",
      "include_colab_link": true
    },
    "kernelspec": {
      "name": "python3",
      "display_name": "Python 3"
    }
  },
  "cells": [
    {
      "cell_type": "markdown",
      "metadata": {
        "id": "view-in-github",
        "colab_type": "text"
      },
      "source": [
        "<a href=\"https://colab.research.google.com/github/PepeScott/daa_2021_1/blob/master/7octubre.ipynb\" target=\"_parent\"><img src=\"https://colab.research.google.com/assets/colab-badge.svg\" alt=\"Open In Colab\"/></a>"
      ]
    },
    {
      "cell_type": "markdown",
      "metadata": {
        "id": "2OLotDMHTOHE"
      },
      "source": [
        "# Busqueda Lineal\n",
        "Dado un conjunto de datos no ordenados, la busqueda lineal, consiste en recorrer el conjunto de datos desde el inicio al final, moviendose de uno en uno hasta encontrar el elemento o llegar al final del conjunto.\n",
        "\n",
        "datos = [ 4,18,47,2,34,14,78,12,48,21,31,19,1,3,5]\n",
        "\n",
        "#Busqueda Binaria\n",
        "funciona sobre un conjunto de datos lineal ordenado.\n",
        "Consiste en dividir el conjunto en mitades y buscar en esa mitad. si el elemento buscado no esta en la mita, preguntas si el elemento esta a la derecha o a la izquierda. \n",
        "Haces la lista igual a la mitad correspondiente y repites el proceso\n",
        "\n",
        "L=[1, 2, 3, 4, 5, 12, 14, 18, 19, 21, 31, 34, 47, 48, 78]\n",
        "\n",
        "Der=longitud(l)-1\n",
        "\n",
        "Izq=0\n",
        "\n",
        "Mid apuntara a la mitad del segmentode busqueda\n",
        "\n",
        "buscado es el valor buscado \n",
        "\n",
        "1. Hacer Der=longitud(L)-1\n",
        "2. Hacer Izq=0\n",
        "3. Si Izq > Der significa que hay un error en los datos\n",
        "4. calcular mid=int((Izq+Der)/2)\n",
        "5. mientras L[Mid] != buscado hacer \n",
        "6.    - preguntar L[Mid] > buscado\n",
        "        - hacer Der=Mid\n",
        "      - de lo contrario \n",
        "        - hacer izq = Mid\n",
        "      - preguntar (Der - Izq)%2\n",
        "        -Mid = (Izq + ((Der- Izq)/2)+1\n",
        "      - de lo contrario\n",
        "        - Mid = Izq+((Der-Izq)/2)\n",
        "7. return Mid"
      ]
    },
    {
      "cell_type": "code",
      "metadata": {
        "id": "ck0ThXFLTLm7",
        "outputId": "57b2395d-62af-4b2a-fc05-bfc7a1f3c063",
        "colab": {
          "base_uri": "https://localhost:8080/",
          "height": 476
        }
      },
      "source": [
        "#Busqueda Lineal \n",
        "#regresa la posicion del elemento 'buscado' si encunetra dentro de la lista\n",
        "#regresa -1 si elemento buscado no existe dentro de la lista\n",
        "def busq_lineal(L,buscado):\n",
        "  indice=-1\n",
        "  contador=0\n",
        "  for idx in range(len(L)):\n",
        "    contador +=1\n",
        "    if L[idx] == buscado:\n",
        "      indice=idx\n",
        "      break\n",
        "  print(f\"numero de comparaciones realizadas={contador}\")\n",
        "  return indice\n",
        "\n",
        "#Busqueda Binaria\n",
        "def busqueda_binaria(L, buscado):\n",
        "  izq=0\n",
        "  der=len(L)-1\n",
        "  mid=int((izq+der)/2)\n",
        "  if  len(L) % 2 == 0:\n",
        "    mid=(der//2)+1\n",
        "  else:\n",
        "    mid=der//2\n",
        "  while (L(mid) != buscado):\n",
        "    if L[mid] > buscado:\n",
        "      der=mid\n",
        "    else:\n",
        "      izq=mid\n",
        "    if (der-izq) % 2 ==0:\n",
        "      mid=(izq+((der-izq)//2))+1\n",
        "    else:\n",
        "      mid = izq+((der-izq)//2)-1\n",
        "  return mid\n",
        "\n",
        "def main():\n",
        "  datos = [ 4,18,47,2,34,14,78,12,48,21,31,19,1,3,5]\n",
        "  dato = int(input(\"Que valor quieres buscar: \"))\n",
        "  resultado= busq_lineal(datos,dato)\n",
        "  print(\"Resultado\", resultado)\n",
        "  print(\"Busqueda lineal en una lista ordenada\")\n",
        "\n",
        "  datos.sort()\n",
        "  print(datos)\n",
        "  resultado= busq_lineal(datos,dato)\n",
        "  print(\"Resultado\", resultado)\n",
        "\n",
        "  print(\"busqueda binaria\")\n",
        "  posicion = busqueda_binaria(datos,47)\n",
        "  print(\"El elemento {dato} esta en la {posicion} de la lista\")\n",
        "main()\n"
      ],
      "execution_count": 10,
      "outputs": [
        {
          "output_type": "stream",
          "text": [
            "Que valor quieres buscar: 47\n",
            "numero de comparaciones realizadas=3\n",
            "Resultado 2\n",
            "Busqueda lineal en una lista ordenada\n",
            "[1, 2, 3, 4, 5, 12, 14, 18, 19, 21, 31, 34, 47, 48, 78]\n",
            "numero de comparaciones realizadas=13\n",
            "Resultado 12\n",
            "busqueda binaria\n"
          ],
          "name": "stdout"
        },
        {
          "output_type": "error",
          "ename": "TypeError",
          "evalue": "ignored",
          "traceback": [
            "\u001b[0;31m---------------------------------------------------------------------------\u001b[0m",
            "\u001b[0;31mTypeError\u001b[0m                                 Traceback (most recent call last)",
            "\u001b[0;32m<ipython-input-10-1d166f859886>\u001b[0m in \u001b[0;36m<module>\u001b[0;34m()\u001b[0m\n\u001b[1;32m     48\u001b[0m   \u001b[0mposicion\u001b[0m \u001b[0;34m=\u001b[0m \u001b[0mbusqueda_binaria\u001b[0m\u001b[0;34m(\u001b[0m\u001b[0mdatos\u001b[0m\u001b[0;34m,\u001b[0m\u001b[0;36m47\u001b[0m\u001b[0;34m)\u001b[0m\u001b[0;34m\u001b[0m\u001b[0;34m\u001b[0m\u001b[0m\n\u001b[1;32m     49\u001b[0m   \u001b[0mprint\u001b[0m\u001b[0;34m(\u001b[0m\u001b[0;34m\"El elemento {dato} esta en la {posicion} de la lista\"\u001b[0m\u001b[0;34m)\u001b[0m\u001b[0;34m\u001b[0m\u001b[0;34m\u001b[0m\u001b[0m\n\u001b[0;32m---> 50\u001b[0;31m \u001b[0mmain\u001b[0m\u001b[0;34m(\u001b[0m\u001b[0;34m)\u001b[0m\u001b[0;34m\u001b[0m\u001b[0;34m\u001b[0m\u001b[0m\n\u001b[0m",
            "\u001b[0;32m<ipython-input-10-1d166f859886>\u001b[0m in \u001b[0;36mmain\u001b[0;34m()\u001b[0m\n\u001b[1;32m     46\u001b[0m \u001b[0;34m\u001b[0m\u001b[0m\n\u001b[1;32m     47\u001b[0m   \u001b[0mprint\u001b[0m\u001b[0;34m(\u001b[0m\u001b[0;34m\"busqueda binaria\"\u001b[0m\u001b[0;34m)\u001b[0m\u001b[0;34m\u001b[0m\u001b[0;34m\u001b[0m\u001b[0m\n\u001b[0;32m---> 48\u001b[0;31m   \u001b[0mposicion\u001b[0m \u001b[0;34m=\u001b[0m \u001b[0mbusqueda_binaria\u001b[0m\u001b[0;34m(\u001b[0m\u001b[0mdatos\u001b[0m\u001b[0;34m,\u001b[0m\u001b[0;36m47\u001b[0m\u001b[0;34m)\u001b[0m\u001b[0;34m\u001b[0m\u001b[0;34m\u001b[0m\u001b[0m\n\u001b[0m\u001b[1;32m     49\u001b[0m   \u001b[0mprint\u001b[0m\u001b[0;34m(\u001b[0m\u001b[0;34m\"El elemento {dato} esta en la {posicion} de la lista\"\u001b[0m\u001b[0;34m)\u001b[0m\u001b[0;34m\u001b[0m\u001b[0;34m\u001b[0m\u001b[0m\n\u001b[1;32m     50\u001b[0m \u001b[0mmain\u001b[0m\u001b[0;34m(\u001b[0m\u001b[0;34m)\u001b[0m\u001b[0;34m\u001b[0m\u001b[0;34m\u001b[0m\u001b[0m\n",
            "\u001b[0;32m<ipython-input-10-1d166f859886>\u001b[0m in \u001b[0;36mbusqueda_binaria\u001b[0;34m(L, buscado)\u001b[0m\n\u001b[1;32m     22\u001b[0m   \u001b[0;32melse\u001b[0m\u001b[0;34m:\u001b[0m\u001b[0;34m\u001b[0m\u001b[0;34m\u001b[0m\u001b[0m\n\u001b[1;32m     23\u001b[0m     \u001b[0mmid\u001b[0m\u001b[0;34m=\u001b[0m\u001b[0mder\u001b[0m\u001b[0;34m//\u001b[0m\u001b[0;36m2\u001b[0m\u001b[0;34m\u001b[0m\u001b[0;34m\u001b[0m\u001b[0m\n\u001b[0;32m---> 24\u001b[0;31m   \u001b[0;32mwhile\u001b[0m \u001b[0;34m(\u001b[0m\u001b[0mL\u001b[0m\u001b[0;34m(\u001b[0m\u001b[0mmid\u001b[0m\u001b[0;34m)\u001b[0m \u001b[0;34m!=\u001b[0m \u001b[0mbuscado\u001b[0m\u001b[0;34m)\u001b[0m\u001b[0;34m:\u001b[0m\u001b[0;34m\u001b[0m\u001b[0;34m\u001b[0m\u001b[0m\n\u001b[0m\u001b[1;32m     25\u001b[0m     \u001b[0;32mif\u001b[0m \u001b[0mL\u001b[0m\u001b[0;34m[\u001b[0m\u001b[0mmid\u001b[0m\u001b[0;34m]\u001b[0m \u001b[0;34m>\u001b[0m \u001b[0mbuscado\u001b[0m\u001b[0;34m:\u001b[0m\u001b[0;34m\u001b[0m\u001b[0;34m\u001b[0m\u001b[0m\n\u001b[1;32m     26\u001b[0m       \u001b[0mder\u001b[0m\u001b[0;34m=\u001b[0m\u001b[0mmid\u001b[0m\u001b[0;34m\u001b[0m\u001b[0;34m\u001b[0m\u001b[0m\n",
            "\u001b[0;31mTypeError\u001b[0m: 'list' object is not callable"
          ]
        }
      ]
    }
  ]
}