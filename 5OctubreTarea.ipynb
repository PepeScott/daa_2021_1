{
  "nbformat": 4,
  "nbformat_minor": 0,
  "metadata": {
    "colab": {
      "name": "5OctubreTarea.ipynb",
      "provenance": [],
      "collapsed_sections": [],
      "authorship_tag": "ABX9TyM998sGySog1T2CM5Rvgmiq",
      "include_colab_link": true
    },
    "kernelspec": {
      "name": "python3",
      "display_name": "Python 3"
    }
  },
  "cells": [
    {
      "cell_type": "markdown",
      "metadata": {
        "id": "view-in-github",
        "colab_type": "text"
      },
      "source": [
        "<a href=\"https://colab.research.google.com/github/PepeScott/daa_2021_1/blob/master/5OctubreTarea.ipynb\" target=\"_parent\"><img src=\"https://colab.research.google.com/assets/colab-badge.svg\" alt=\"Open In Colab\"/></a>"
      ]
    },
    {
      "cell_type": "code",
      "metadata": {
        "id": "Z2852XcEQxKK",
        "outputId": "f8943c85-b75e-4869-8016-7c2be3cfcdd1",
        "colab": {
          "base_uri": "https://localhost:8080/"
        }
      },
      "source": [
        "class Stack:\n",
        "    def __init__(self):\n",
        "        self.__datos=[]\n",
        "\n",
        "    def is__empty(self):\n",
        "        return len(self.__datos)==0\n",
        "\n",
        "    def get__top(self):\n",
        "        return self.__datos[-1]\n",
        "\n",
        "    def pop(self):\n",
        "        return self.__datos.pop()\n",
        "\n",
        "    def push(self,valor):\n",
        "        self.__datos.append(valor)\n",
        "\n",
        "    def get__length(self):\n",
        "        return len(self.__datos)\n",
        "\n",
        "    def to__string(self):\n",
        "        print(\"|-------------------|\")\n",
        "        for ele in self.__datos[-1::-1]:\n",
        "            print(f\"{ele}\")\n",
        "        print(\"|-------------------|\")\n",
        "\n",
        "archivo=open(\"prueba\",\"r\")\n",
        "nuevoDato=Stack()\n",
        "exepcion=0\n",
        "texto=archivo.read()\n",
        "archivo.close()\n",
        "for recorrido in range(len(texto)):\n",
        "    if texto[recorrido]=='{' or texto[recorrido]=='(' or texto[recorrido]=='[':\n",
        "        nuevoDato.push(\"@\")\n",
        "    if texto[recorrido]=='}' or texto[recorrido]==')' or texto[recorrido]==']':\n",
        "        try:\n",
        "            nuevoDato.pop()\n",
        "        except:\n",
        "            nuevoDato.push(\"@\")\n",
        "                \n",
        "\n",
        "if(exepcion==0) and (nuevoDato.get__length()==0):\n",
        "    print(\"Operacion balanceada\")\n",
        "else:\n",
        "    print(\"Operacion no balanceada\")"
      ],
      "execution_count": 20,
      "outputs": [
        {
          "output_type": "stream",
          "text": [
            "Operacion balanceada\n"
          ],
          "name": "stdout"
        }
      ]
    }
  ]
}