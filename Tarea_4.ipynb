{
  "nbformat": 4,
  "nbformat_minor": 0,
  "metadata": {
    "colab": {
      "name": "Tarea 4.ipynb",
      "provenance": [],
      "authorship_tag": "ABX9TyNpsVuD/WVayCgjFiRpLKKZ",
      "include_colab_link": true
    },
    "kernelspec": {
      "name": "python3",
      "display_name": "Python 3"
    }
  },
  "cells": [
    {
      "cell_type": "markdown",
      "metadata": {
        "id": "view-in-github",
        "colab_type": "text"
      },
      "source": [
        "<a href=\"https://colab.research.google.com/github/PepeScott/daa_2021_1/blob/master/Tarea_4.ipynb\" target=\"_parent\"><img src=\"https://colab.research.google.com/assets/colab-badge.svg\" alt=\"Open In Colab\"/></a>"
      ]
    },
    {
      "cell_type": "markdown",
      "metadata": {
        "id": "lB8hepAH6v7f"
      },
      "source": [
        "## Excell\n",
        "https://drive.google.com/file/d/1bWkTlD_svHbPVVTNzNIPj4aIDxlw0fLP/view?usp=sharing"
      ]
    },
    {
      "cell_type": "code",
      "metadata": {
        "id": "JXkpYMMFt-L0",
        "outputId": "5f707cc4-5e83-4b32-bd0e-357791ba9714",
        "colab": {
          "base_uri": "https://localhost:8080/",
          "height": 238
        }
      },
      "source": [
        "def ejemplo(n):\n",
        "  count=0\n",
        "  i=n\n",
        "  print(\"Nivel 1\")\n",
        "  while i >= 1:\n",
        "    count +=1\n",
        "    i =i//2\n",
        "    print(\"Nivel 2\")\n",
        "  basura = 3+2\n",
        "  print(\"Nivel 1\")\n",
        "  return count\n",
        "\n",
        "print(ejemplo(1000))"
      ],
      "execution_count": null,
      "outputs": [
        {
          "output_type": "stream",
          "text": [
            "Nivel 1\n",
            "Nivel 2\n",
            "Nivel 2\n",
            "Nivel 2\n",
            "Nivel 2\n",
            "Nivel 2\n",
            "Nivel 2\n",
            "Nivel 2\n",
            "Nivel 2\n",
            "Nivel 2\n",
            "Nivel 2\n",
            "Nivel 1\n",
            "10\n"
          ],
          "name": "stdout"
        }
      ]
    },
    {
      "cell_type": "code",
      "metadata": {
        "id": "BSZn18zeyGa0",
        "outputId": "43e04f19-164a-4521-c703-4ac43fef65d5",
        "colab": {
          "base_uri": "https://localhost:8080/",
          "height": 221
        }
      },
      "source": [
        "def ejemplo(n):\n",
        "  count=0\n",
        "  i=n\n",
        "  print(\"Nivel 1\")\n",
        "  while i > 1:\n",
        "    count +=1\n",
        "    i =i//2\n",
        "    print(\"Nivel 2\")\n",
        "  basura = 3+2\n",
        "  print(\"Nivel 1\")\n",
        "  return count\n",
        "\n",
        "print(ejemplo(1000))"
      ],
      "execution_count": null,
      "outputs": [
        {
          "output_type": "stream",
          "text": [
            "Nivel 1\n",
            "Nivel 2\n",
            "Nivel 2\n",
            "Nivel 2\n",
            "Nivel 2\n",
            "Nivel 2\n",
            "Nivel 2\n",
            "Nivel 2\n",
            "Nivel 2\n",
            "Nivel 2\n",
            "Nivel 1\n",
            "9\n"
          ],
          "name": "stdout"
        }
      ]
    }
  ]
}